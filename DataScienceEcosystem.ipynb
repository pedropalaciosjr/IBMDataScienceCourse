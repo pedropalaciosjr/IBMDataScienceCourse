{
 "cells": [
  {
   "cell_type": "markdown",
   "id": "0b22c40c-e703-4270-8765-5ffaf8d1909e",
   "metadata": {},
   "source": [
    "# Data Science Tools and Ecosystem"
   ]
  },
  {
   "cell_type": "markdown",
   "id": "fb214411-53b4-4287-9f25-2e2da5df8331",
   "metadata": {},
   "source": [
    "## Author\n",
    "Pedro P."
   ]
  },
  {
   "cell_type": "markdown",
   "id": "12dfab35-006e-4844-8a8b-107adf324148",
   "metadata": {},
   "source": [
    "**Objectives**\n",
    "1. List popular programming languages for Data Science\n",
    "2. List popular libraries used by Data Scientists\n",
    "3. List popular tools used by Data Scientists\n",
    "4. Perform arithmetic operations in code cells with comments\n",
    "5. Create heading/sub-heading markdown cells describing the subsequent task"
   ]
  },
  {
   "cell_type": "markdown",
   "id": "7cb5c448-e717-4bef-b603-d79e576440bd",
   "metadata": {},
   "source": [
    "In this notebook, Data Science Tools and Ecosystems are summarized."
   ]
  },
  {
   "cell_type": "markdown",
   "id": "0d091b01-61cd-4e03-b4a2-d83f7767c20a",
   "metadata": {},
   "source": [
    "Some of the popular languages that Data Scientists use are:\n",
    "1. Python\n",
    "2. R\n",
    "3. SQL\n",
    "4. C++"
   ]
  },
  {
   "cell_type": "markdown",
   "id": "aafb57c0-46d3-401f-83a4-3b1bec2170be",
   "metadata": {},
   "source": [
    "Some of the commonly used libraries used by Data Scientists include:\n",
    "1. NumPy\n",
    "2. Pandas\n",
    "3. Plotly\n",
    "4. ggplot2"
   ]
  },
  {
   "cell_type": "markdown",
   "id": "ac199115-82b9-4cbb-9d15-ea2fe175eb03",
   "metadata": {},
   "source": [
    "| Data Science Tools |\n",
    "| -|\n",
    "| VS Code |\n",
    "| Jupyter |\n",
    "| IBM Watson Studio |\n"
   ]
  },
  {
   "cell_type": "markdown",
   "id": "32cc21b6-3900-48a3-a8cd-b057d85b287c",
   "metadata": {},
   "source": [
    "### Below are a few examples of evaluating arithmetic expressions in Python."
   ]
  },
  {
   "cell_type": "code",
   "execution_count": 5,
   "id": "2f5c1696-4cc0-47b5-a1a6-c64d9ec3d7ed",
   "metadata": {},
   "outputs": [
    {
     "data": {
      "text/plain": [
       "17"
      ]
     },
     "execution_count": 5,
     "metadata": {},
     "output_type": "execute_result"
    }
   ],
   "source": [
    "# This is a simple arithmetic expression to multiply then add integers\n",
    "(3*4)+5"
   ]
  },
  {
   "cell_type": "code",
   "execution_count": 6,
   "id": "9bba01e6-a663-4c65-af71-273221b73e1a",
   "metadata": {},
   "outputs": [
    {
     "data": {
      "text/plain": [
       "3.3333333333333335"
      ]
     },
     "execution_count": 6,
     "metadata": {},
     "output_type": "execute_result"
    }
   ],
   "source": [
    "# This will convert 200 minutes to hours by dividing by 60\n",
    "200/60"
   ]
  }
 ],
 "metadata": {
  "kernelspec": {
   "display_name": "Python 3 (ipykernel)",
   "language": "python",
   "name": "python3"
  },
  "language_info": {
   "codemirror_mode": {
    "name": "ipython",
    "version": 3
   },
   "file_extension": ".py",
   "mimetype": "text/x-python",
   "name": "python",
   "nbconvert_exporter": "python",
   "pygments_lexer": "ipython3",
   "version": "3.9.6"
  }
 },
 "nbformat": 4,
 "nbformat_minor": 5
}
